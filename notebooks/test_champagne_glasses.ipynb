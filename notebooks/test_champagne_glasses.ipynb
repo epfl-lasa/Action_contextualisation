{
 "cells": [
  {
   "cell_type": "code",
   "execution_count": null,
   "metadata": {
    "collapsed": true,
    "pycharm": {
     "name": "#%%\n"
    }
   },
   "outputs": [],
   "source": [
    "import numpy as np\n",
    "import controller_utils\n",
    "import mujoco\n",
    "from mujoco import viewer\n",
    "import tools.rotations as rot\n",
    "\n",
    "# import rospy\n",
    "\n",
    "import time\n",
    "time.sleep(0.4)\n",
    "import mediapy as media\n",
    "\n",
    "xml_path = 'description/iiwa7_allegro_llm.xml'\n",
    "obj_name = ''\n",
    "model = mujoco.MjModel.from_xml_path(xml_path)\n",
    "data = mujoco.MjData(model)\n",
    "mujoco.mj_step(model, data)\n",
    "\n",
    "# view = viewer.launch(model, data)\n",
    "view = viewer.launch_passive(model, data)\n",
    "# in notebook, we need ro run view.sync() manually, and set auto_sync=False\n",
    "\n",
    "obj_names = ['champagne_1', 'champagne_2', 'champagne_3'] # id: 27, 28, 29\n",
    "num = 0\n",
    "obj = obj_names[num]\n",
    "r = controller_utils.Robot(model, data, view, auto_sync=False, obj_names=obj_names)\n",
    "\n",
    "q0 = np.array([-0.32032434,  0.02706913, -0.22881953, -1.42621454,  1.3862661 , 0.55966738,  1.79477984 - np.pi*3/2]) # home position\n",
    "r.d.qpos[:7]  = q0 # robot joint angles\n",
    "r.step()\n",
    "view.sync()\n",
    "\n",
    "x0 = np.copy(r.x) # to save the initial quaternion"
   ]
  },
  {
   "cell_type": "code",
   "execution_count": null,
   "metadata": {},
   "outputs": [],
   "source": [
    "import task_planner\n",
    "task_planner.pick_place_object(model, data, r, view, 'champagne_1', pick=True)\n",
    "# task_planner.pick_place_object(model, data, r, view, 'champagne_2', pick=True)\n",
    "# task_planner.pick_place_object(model, data, r, view, 'champagne_3', pick=True)"
   ]
  },
  {
   "cell_type": "code",
   "execution_count": null,
   "metadata": {},
   "outputs": [],
   "source": [
    "from scipy.spatial.transform import Rotation as R\n",
    "\n",
    "# test KUKA for modifying end effector orientation\n",
    "test = np.copy(r.x) # Cartesian space, arm, 7\n",
    "\n",
    "q0 = R.from_quat(test[3:])\n",
    "q1 = R.from_euler('z', 90, degrees=True)\n",
    "\n",
    "# Multiply the quaternions to get the combined rotation\n",
    "q_combined = q0 * q1\n",
    "\n",
    "# # Get the quaternion as a NumPy array\n",
    "q = q_combined.as_quat()\n",
    "# print(q)\n",
    "\n",
    "test[3:] = q\n",
    "\n",
    "while True:\n",
    "    r.iiwa_hand_go(test, r.qh, kh_scale=[0.2,0.2,0.2,0.2])\n",
    "    view.sync()\n",
    "    time.sleep(0.002)"
   ]
  },
  {
   "cell_type": "code",
   "execution_count": null,
   "metadata": {},
   "outputs": [],
   "source": [
    "# r.x_obj_dict['champagne_1'] # object pose in Cartesian space\n",
    "# r.x # end effector pose\n",
    "# r.p # (4,4) transformation matrix (4, 4) of the end-effector of iiwa\n",
    "\n",
    "# renderer = mujoco.Renderer(model)\n",
    "# media.show_image(renderer.render())\n",
    "\n",
    "# options = mujoco.MjvOption()\n",
    "# options.flags[mujoco.mjtVisFlag.mjVIS_CONTACTFORCE] = True\n",
    "# options.flags[mujoco.mjtVisFlag.mjVIS_CONTACTFORCE] = True\n",
    "# options.flags[mujoco.mjtVisFlag.mjVIS_TRANSPARENT] = True\n",
    "\n",
    "# mujoco.mj_forward(model, data)\n",
    "# renderer.update_scene(data)\n",
    "\n",
    "# media.show_image(renderer.render())\n",
    "\n",
    "# hand joint configuration\n",
    "qh = np.array([0, 0.33, 1.05, 1.05, # index\n",
    "               0, 0.29, 1.2, 0.6, # middle\n",
    "               0, 0.32, 1.2, 0.8, # ring\n",
    "               1, 0.5, 0.71,1]) # thumb\n"
   ]
  },
  {
   "cell_type": "code",
   "execution_count": null,
   "metadata": {
    "collapsed": false,
    "pycharm": {
     "name": "#%%\n"
    }
   },
   "outputs": [],
   "source": [
    "r.modify_joint(q0)\n",
    "# move the object to a proper pose as an initial pose\n",
    "p = np.array([0.6,-0.275,1.2])\n",
    "q = rot.euler2quat([0,0,0])\n",
    "pose = np.concatenate([p, q])\n",
    "r.modify_obj_pose(obj, pose)\n",
    "\n",
    "# move the hand to the grasping configuration\n",
    "\n",
    "qh = np.array([0, 0.33, 1.05, 1.05, # index\n",
    "               0, 0.29, 1.2, 0.6, # middle\n",
    "               0, 0.32, 1.2, 0.8, # ring\n",
    "               1, 0.5, 0.71,1]) # thumb\n",
    "r.modify_joint(qh) # assign joints to hand\n",
    "\n",
    "data.ncon\n",
    "\n",
    "r.step()\n",
    "view.sync()"
   ]
  },
  {
   "cell_type": "code",
   "execution_count": null,
   "metadata": {},
   "outputs": [],
   "source": [
    "data.ncon\n",
    "options = mujoco.MjvOption()\n",
    "options.flags[mujoco.mjtVisFlag.mjVIS_CONTACTFORCE] = 1"
   ]
  },
  {
   "cell_type": "code",
   "execution_count": null,
   "metadata": {
    "collapsed": false,
    "pycharm": {
     "is_executing": true,
     "name": "#%%\n"
    }
   },
   "outputs": [],
   "source": [
    "x0 = np.copy(r.x) # Cartesian space, arm, 7\n",
    "qh0 = np.copy(qh) # Joint position, hand, 16\n",
    "F_grasp = [0.7, 0.1, 0.3]\n",
    "while 1:\n",
    "    # u_add = r.pinch_grasp_force(F_grasp, pairs=[[0,3], [1,3], [2,3]])\n",
    "    # u_add = r.pinch_grasp_force(F_grasp, pairs=[[0,3]])\n",
    "    r.iiwa_hand_go(x0, qh0, kh_scale=[0.2,0.2,0.2,0.2])\n",
    "    view.sync()\n",
    "    time.sleep(0.002)"
   ]
  }
 ],
 "metadata": {
  "kernelspec": {
   "display_name": "mujoco",
   "language": "python",
   "name": "python3"
  },
  "language_info": {
   "codemirror_mode": {
    "name": "ipython",
    "version": 3
   },
   "file_extension": ".py",
   "mimetype": "text/x-python",
   "name": "python",
   "nbconvert_exporter": "python",
   "pygments_lexer": "ipython3",
   "version": "3.9.18"
  }
 },
 "nbformat": 4,
 "nbformat_minor": 0
}
