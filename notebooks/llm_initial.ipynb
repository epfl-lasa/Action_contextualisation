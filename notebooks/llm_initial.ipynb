{
 "cells": [
  {
   "cell_type": "code",
   "execution_count": null,
   "metadata": {
    "collapsed": false,
    "pycharm": {
     "name": "#%%\n"
    }
   },
   "outputs": [],
   "source": [
    "import numpy as np\n",
    "import controller_utils\n",
    "import mujoco\n",
    "from mujoco import viewer\n",
    "import tools.rotations as rot\n",
    "\n",
    "# import rospy\n",
    "\n",
    "import time\n",
    "time.sleep(0.4)\n",
    "# import mediapy as media\n",
    "%load_ext autoreload\n",
    "%autoreload 2"
   ]
  },
  {
   "cell_type": "code",
   "execution_count": null,
   "metadata": {
    "collapsed": false,
    "pycharm": {
     "is_executing": true,
     "name": "#%%\n"
    }
   },
   "outputs": [],
   "source": [
    "xml_path = 'description/iiwa7_allegro_llm.xml'\n",
    "obj_name = ''\n",
    "model = mujoco.MjModel.from_xml_path(xml_path)\n",
    "data = mujoco.MjData(model)\n",
    "mujoco.mj_step(model, data)\n",
    "\n",
    "\n",
    "# viewer.launch(model, data)\n",
    "view = viewer.launch_passive(model, data)\n",
    "# in notebook, we need ro run view.sync() manually, and set auto_sync=False\n",
    "\n",
    "obj_names = ['champagne_1', 'champagne_2', 'champagne_3']\n",
    "num = 0\n",
    "obj = obj_names[num]\n",
    "r = controller_utils.Robot(model, data, view, auto_sync=False, obj_names=obj_names)\n",
    "\n",
    "q0 = np.array([-0.32032434,  0.02706913, -0.22881953, -1.42621454,  1.3862661 , 0.55966738,  1.79477984 - np.pi*3/2])\n",
    "r.d.qpos[:7]  = q0\n",
    "r.step()\n",
    "view.sync()"
   ]
  },
  {
   "cell_type": "code",
   "execution_count": null,
   "metadata": {
    "collapsed": false,
    "pycharm": {
     "name": "#%%\n"
    }
   },
   "outputs": [],
   "source": [
    "r.modify_joint(q0)\n",
    "# move the object to a proper pose as an initial pose\n",
    "p = np.array([0.6,-0.275,1.2])\n",
    "q = rot.euler2quat([0,0,0])\n",
    "pose = np.concatenate([p, q])\n",
    "r.modify_obj_pose(obj, pose)\n",
    "\n",
    "# move the hand to the grasping configuration\n",
    "\n",
    "qh = np.array([0, 0.33, 1.05, 1.05,\n",
    "               0, 0.29, 1.2, 0.6,\n",
    "               0, 0.32, 1.2, 0.8,\n",
    "               1, 0.5, 0.71,1])\n",
    "r.modify_joint(qh)\n",
    "\n",
    "r.step()\n",
    "view.sync()"
   ]
  },
  {
   "cell_type": "code",
   "execution_count": null,
   "metadata": {
    "collapsed": false,
    "pycharm": {
     "is_executing": true,
     "name": "#%%\n"
    }
   },
   "outputs": [],
   "source": [
    "x0 = np.copy(r.x)\n",
    "x0[2] += 0.1\n",
    "qh0 = np.copy(qh)\n",
    "# F_grasp = [0.7, 0.1, 0.3]\n",
    "F_grasp = [0.1] # notice that the dimension of F_grasp must be identical to the number of pairs provided in the function `r.pinch_grasp_force`\n",
    "\n",
    "while True:\n",
    "    # u_add = r.pinch_grasp_force(F_grasp, pairs=[[0,3], [1,3], [2,3]])\n",
    "    u_add = r.pinch_grasp_force(F_grasp, pairs=[[0,1]])\n",
    "    # pinch grasp assumes a grasp formed by a pair of fingertips\n",
    "\n",
    "    # r.iiwa_hand_go(x0, qh0, kh_scale=[0.2,0.2,0.2,0.2], u_add=u_add)\n",
    "    r.moveto_attractor(x0, qh0, scaling=1, u_add=u_add)\n",
    "    view.sync()\n",
    "    time.sleep(0.002)"
   ]
  }
 ],
 "metadata": {
  "kernelspec": {
   "display_name": "Python 3",
   "language": "python",
   "name": "python3"
  },
  "language_info": {
   "codemirror_mode": {
    "name": "ipython",
    "version": 3
   },
   "file_extension": ".py",
   "mimetype": "text/x-python",
   "name": "python",
   "nbconvert_exporter": "python",
   "pygments_lexer": "ipython3",
   "version": "3.9.18"
  }
 },
 "nbformat": 4,
 "nbformat_minor": 0
}
